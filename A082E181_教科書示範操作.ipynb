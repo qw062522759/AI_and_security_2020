{
  "nbformat": 4,
  "nbformat_minor": 0,
  "metadata": {
    "colab": {
      "name": "A082E181 教科書示範操作.ipynb",
      "provenance": [],
      "authorship_tag": "ABX9TyOPhc8PrEub48hHXwVEhoOd",
      "include_colab_link": true
    },
    "kernelspec": {
      "name": "python3",
      "display_name": "Python 3"
    }
  },
  "cells": [
    {
      "cell_type": "markdown",
      "metadata": {
        "id": "view-in-github",
        "colab_type": "text"
      },
      "source": [
        "<a href=\"https://colab.research.google.com/github/qw062522759/AI_and_security_2020/blob/master/A082E181_%E6%95%99%E7%A7%91%E6%9B%B8%E7%A4%BA%E7%AF%84%E6%93%8D%E4%BD%9C.ipynb\" target=\"_parent\"><img src=\"https://colab.research.google.com/assets/colab-badge.svg\" alt=\"Open In Colab\"/></a>"
      ]
    },
    {
      "cell_type": "code",
      "metadata": {
        "colab": {
          "base_uri": "https://localhost:8080/"
        },
        "id": "Y38WYwkfXyuA",
        "outputId": "56ae2c9f-8661-43f3-b176-bcff615dcd18"
      },
      "source": [
        "!git clone https://github.com/oreilly-japan/deep-learning-from-scratch.git"
      ],
      "execution_count": 1,
      "outputs": [
        {
          "output_type": "stream",
          "text": [
            "Cloning into 'deep-learning-from-scratch'...\n",
            "remote: Enumerating objects: 446, done.\u001b[K\n",
            "remote: Total 446 (delta 0), reused 0 (delta 0), pack-reused 446\u001b[K\n",
            "Receiving objects: 100% (446/446), 5.52 MiB | 31.03 MiB/s, done.\n",
            "Resolving deltas: 100% (232/232), done.\n"
          ],
          "name": "stdout"
        }
      ]
    },
    {
      "cell_type": "code",
      "metadata": {
        "colab": {
          "base_uri": "https://localhost:8080/"
        },
        "id": "pMhN7qarYH0I",
        "outputId": "3ac6e797-3839-45f2-f7c4-80eea91f5919"
      },
      "source": [
        "ls"
      ],
      "execution_count": 2,
      "outputs": [
        {
          "output_type": "stream",
          "text": [
            "\u001b[0m\u001b[01;34mdeep-learning-from-scratch\u001b[0m/  \u001b[01;34msample_data\u001b[0m/\n"
          ],
          "name": "stdout"
        }
      ]
    },
    {
      "cell_type": "code",
      "metadata": {
        "colab": {
          "base_uri": "https://localhost:8080/"
        },
        "id": "RvKI7oTZYYv-",
        "outputId": "1fc4f17c-9974-42f5-9418-1d858c19940d"
      },
      "source": [
        "cd deep-learning-from-scratch"
      ],
      "execution_count": 3,
      "outputs": [
        {
          "output_type": "stream",
          "text": [
            "/content/deep-learning-from-scratch\n"
          ],
          "name": "stdout"
        }
      ]
    },
    {
      "cell_type": "code",
      "metadata": {
        "colab": {
          "base_uri": "https://localhost:8080/"
        },
        "id": "l-K3rQNfY5d3",
        "outputId": "df2d11a4-cd4e-4d48-d7c1-3252b18e87e2"
      },
      "source": [
        "ls"
      ],
      "execution_count": 4,
      "outputs": [
        {
          "output_type": "stream",
          "text": [
            "\u001b[0m\u001b[01;34mch01\u001b[0m/  \u001b[01;34mch03\u001b[0m/  \u001b[01;34mch05\u001b[0m/  \u001b[01;34mch07\u001b[0m/  \u001b[01;34mcommon\u001b[0m/   \u001b[01;32mLICENSE.md\u001b[0m*\n",
            "\u001b[01;34mch02\u001b[0m/  \u001b[01;34mch04\u001b[0m/  \u001b[01;34mch06\u001b[0m/  \u001b[01;34mch08\u001b[0m/  \u001b[01;34mdataset\u001b[0m/  README.md\n"
          ],
          "name": "stdout"
        }
      ]
    },
    {
      "cell_type": "code",
      "metadata": {
        "colab": {
          "base_uri": "https://localhost:8080/"
        },
        "id": "apiM5RYbZjC3",
        "outputId": "b79fed42-a017-43c5-b792-dacd7ad49f58"
      },
      "source": [
        "cd ch01"
      ],
      "execution_count": 5,
      "outputs": [
        {
          "output_type": "stream",
          "text": [
            "/content/deep-learning-from-scratch/ch01\n"
          ],
          "name": "stdout"
        }
      ]
    },
    {
      "cell_type": "code",
      "metadata": {
        "colab": {
          "base_uri": "https://localhost:8080/"
        },
        "id": "Y6kkxuZdZlzX",
        "outputId": "e433689b-93f3-434b-f892-4d8c170a06be"
      },
      "source": [
        "ls"
      ],
      "execution_count": 6,
      "outputs": [
        {
          "output_type": "stream",
          "text": [
            "hungry.py  img_show.py  man.py  simple_graph.py  sin_cos_graph.py  sin_graph.py\n"
          ],
          "name": "stdout"
        }
      ]
    },
    {
      "cell_type": "code",
      "metadata": {
        "colab": {
          "base_uri": "https://localhost:8080/"
        },
        "id": "E9qO_PzKZu13",
        "outputId": "86c4d2cf-b3b8-49a2-a6e0-895fb1fe5530"
      },
      "source": [
        "!python hungry.py"
      ],
      "execution_count": 7,
      "outputs": [
        {
          "output_type": "stream",
          "text": [
            "I'm hungry!\n"
          ],
          "name": "stdout"
        }
      ]
    },
    {
      "cell_type": "code",
      "metadata": {
        "colab": {
          "base_uri": "https://localhost:8080/"
        },
        "id": "oHAGyNa1ZwH_",
        "outputId": "2e35e7c1-3658-4aa8-d723-1f293a5e22ac"
      },
      "source": [
        "cat hungry.py"
      ],
      "execution_count": 8,
      "outputs": [
        {
          "output_type": "stream",
          "text": [
            "print(\"I'm hungry!\")\n"
          ],
          "name": "stdout"
        }
      ]
    }
  ]
}